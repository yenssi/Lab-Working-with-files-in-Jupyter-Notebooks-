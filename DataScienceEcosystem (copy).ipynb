{
  "metadata": {
    "kernelspec": {
      "name": "python",
      "display_name": "Python (Pyodide)",
      "language": "python"
    },
    "language_info": {
      "codemirror_mode": {
        "name": "python",
        "version": 3
      },
      "file_extension": ".py",
      "mimetype": "text/x-python",
      "name": "python",
      "nbconvert_exporter": "python",
      "pygments_lexer": "ipython3",
      "version": "3.8"
    }
  },
  "nbformat_minor": 5,
  "nbformat": 4,
  "cells": [
    {
      "id": "eb7baba9-84af-4a6a-a50c-e8a60791b18c",
      "cell_type": "markdown",
      "source": "# Data Science Tools and Ecosystem",
      "metadata": {}
    },
    {
      "id": "b986a3f4-35d5-4c08-8ddd-b84356382610",
      "cell_type": "markdown",
      "source": "In this notebook, Data Science Tools and Ecosystem are summarized.\n",
      "metadata": {}
    },
    {
      "id": "9290768b-1e71-4c35-bce6-7afe18e7fb4c",
      "cell_type": "markdown",
      "source": "Some of the popular languages that Data Scientists use are:\n1. Panda\n2. Matplotlib\n3. NumPy",
      "metadata": {}
    },
    {
      "id": "03322bc6-d723-4080-926c-f8607baf19f3",
      "cell_type": "markdown",
      "source": "|Data Science Tools|\n|------------------|\n|Jupyter Notebooks |\n|RStudio           |\n|Zeppelin Notebooks|\n\n",
      "metadata": {}
    },
    {
      "id": "8eb7dd62-b626-42a9-b17a-5c7e7bd69d25",
      "cell_type": "markdown",
      "source": "### Below are a few examples of evaluating arithmetic expressions in Python\n\n\n",
      "metadata": {}
    },
    {
      "id": "6c647ed4-100f-4a2c-b918-21408523090b",
      "cell_type": "code",
      "source": "(3*4)+5  ##This a simple arithmetic expression to mutiply then add integers\n",
      "metadata": {
        "trusted": true
      },
      "outputs": [
        {
          "execution_count": 4,
          "output_type": "execute_result",
          "data": {
            "text/plain": "17"
          },
          "metadata": {}
        }
      ],
      "execution_count": 4
    },
    {
      "id": "6bbc032b-ec9f-4362-a3cd-8200bee23fbd",
      "cell_type": "code",
      "source": "200/60 ##This will convert 200 minutes to hours by diving by 60",
      "metadata": {
        "trusted": true
      },
      "outputs": [
        {
          "execution_count": 5,
          "output_type": "execute_result",
          "data": {
            "text/plain": "3.3333333333333335"
          },
          "metadata": {}
        }
      ],
      "execution_count": 5
    },
    {
      "id": "9d4138eb-30cd-4257-8836-5d6ffb1b2fc9",
      "cell_type": "markdown",
      "source": "**Objectives:**\n- R\n- Python\n- SQL\n- Julia",
      "metadata": {}
    },
    {
      "id": "169eefda-0a79-4513-b73f-730ee11c8e17",
      "cell_type": "markdown",
      "source": "## Author\n\nYenssi Bu",
      "metadata": {}
    },
    {
      "id": "b0714be1-557a-4f8e-9335-6c99a87a1901",
      "cell_type": "code",
      "source": "",
      "metadata": {
        "trusted": true
      },
      "outputs": [],
      "execution_count": null
    }
  ]
}